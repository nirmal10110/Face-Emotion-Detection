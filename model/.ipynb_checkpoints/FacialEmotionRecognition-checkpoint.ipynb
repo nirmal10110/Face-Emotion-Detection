{
 "cells": [
  {
   "cell_type": "code",
   "execution_count": 2,
   "metadata": {
    "colab": {
     "base_uri": "https://localhost:8080/",
     "height": 685
    },
    "colab_type": "code",
    "id": "g18sUcxoAcSD",
    "outputId": "5f0dfb7b-a850-4a9c-a31b-5f2118c23683"
   },
   "outputs": [
    {
     "name": "stdout",
     "output_type": "stream",
     "text": [
      "Requirement already satisfied: tensorflow==2.2 in /usr/local/lib/python3.6/dist-packages (2.2.0)\n",
      "Requirement already satisfied: astunparse==1.6.3 in /usr/local/lib/python3.6/dist-packages (from tensorflow==2.2) (1.6.3)\n",
      "Requirement already satisfied: scipy==1.4.1; python_version >= \"3\" in /usr/local/lib/python3.6/dist-packages (from tensorflow==2.2) (1.4.1)\n",
      "Requirement already satisfied: protobuf>=3.8.0 in /usr/local/lib/python3.6/dist-packages (from tensorflow==2.2) (3.12.2)\n",
      "Requirement already satisfied: keras-preprocessing>=1.1.0 in /usr/local/lib/python3.6/dist-packages (from tensorflow==2.2) (1.1.2)\n",
      "Requirement already satisfied: tensorflow-estimator<2.3.0,>=2.2.0 in /usr/local/lib/python3.6/dist-packages (from tensorflow==2.2) (2.2.0)\n",
      "Requirement already satisfied: grpcio>=1.8.6 in /usr/local/lib/python3.6/dist-packages (from tensorflow==2.2) (1.30.0)\n",
      "Requirement already satisfied: wrapt>=1.11.1 in /usr/local/lib/python3.6/dist-packages (from tensorflow==2.2) (1.12.1)\n",
      "Requirement already satisfied: h5py<2.11.0,>=2.10.0 in /usr/local/lib/python3.6/dist-packages (from tensorflow==2.2) (2.10.0)\n",
      "Requirement already satisfied: opt-einsum>=2.3.2 in /usr/local/lib/python3.6/dist-packages (from tensorflow==2.2) (3.3.0)\n",
      "Requirement already satisfied: tensorboard<2.3.0,>=2.2.0 in /usr/local/lib/python3.6/dist-packages (from tensorflow==2.2) (2.2.2)\n",
      "Requirement already satisfied: numpy<2.0,>=1.16.0 in /usr/local/lib/python3.6/dist-packages (from tensorflow==2.2) (1.18.5)\n",
      "Requirement already satisfied: google-pasta>=0.1.8 in /usr/local/lib/python3.6/dist-packages (from tensorflow==2.2) (0.2.0)\n",
      "Requirement already satisfied: termcolor>=1.1.0 in /usr/local/lib/python3.6/dist-packages (from tensorflow==2.2) (1.1.0)\n",
      "Requirement already satisfied: absl-py>=0.7.0 in /usr/local/lib/python3.6/dist-packages (from tensorflow==2.2) (0.9.0)\n",
      "Requirement already satisfied: wheel>=0.26; python_version >= \"3\" in /usr/local/lib/python3.6/dist-packages (from tensorflow==2.2) (0.34.2)\n",
      "Requirement already satisfied: six>=1.12.0 in /usr/local/lib/python3.6/dist-packages (from tensorflow==2.2) (1.15.0)\n",
      "Requirement already satisfied: gast==0.3.3 in /usr/local/lib/python3.6/dist-packages (from tensorflow==2.2) (0.3.3)\n",
      "Requirement already satisfied: setuptools in /usr/local/lib/python3.6/dist-packages (from protobuf>=3.8.0->tensorflow==2.2) (49.1.0)\n",
      "Requirement already satisfied: google-auth-oauthlib<0.5,>=0.4.1 in /usr/local/lib/python3.6/dist-packages (from tensorboard<2.3.0,>=2.2.0->tensorflow==2.2) (0.4.1)\n",
      "Requirement already satisfied: markdown>=2.6.8 in /usr/local/lib/python3.6/dist-packages (from tensorboard<2.3.0,>=2.2.0->tensorflow==2.2) (3.2.2)\n",
      "Requirement already satisfied: requests<3,>=2.21.0 in /usr/local/lib/python3.6/dist-packages (from tensorboard<2.3.0,>=2.2.0->tensorflow==2.2) (2.23.0)\n",
      "Requirement already satisfied: tensorboard-plugin-wit>=1.6.0 in /usr/local/lib/python3.6/dist-packages (from tensorboard<2.3.0,>=2.2.0->tensorflow==2.2) (1.7.0)\n",
      "Requirement already satisfied: werkzeug>=0.11.15 in /usr/local/lib/python3.6/dist-packages (from tensorboard<2.3.0,>=2.2.0->tensorflow==2.2) (1.0.1)\n",
      "Requirement already satisfied: google-auth<2,>=1.6.3 in /usr/local/lib/python3.6/dist-packages (from tensorboard<2.3.0,>=2.2.0->tensorflow==2.2) (1.17.2)\n",
      "Requirement already satisfied: requests-oauthlib>=0.7.0 in /usr/local/lib/python3.6/dist-packages (from google-auth-oauthlib<0.5,>=0.4.1->tensorboard<2.3.0,>=2.2.0->tensorflow==2.2) (1.3.0)\n",
      "Requirement already satisfied: importlib-metadata; python_version < \"3.8\" in /usr/local/lib/python3.6/dist-packages (from markdown>=2.6.8->tensorboard<2.3.0,>=2.2.0->tensorflow==2.2) (1.7.0)\n",
      "Requirement already satisfied: certifi>=2017.4.17 in /usr/local/lib/python3.6/dist-packages (from requests<3,>=2.21.0->tensorboard<2.3.0,>=2.2.0->tensorflow==2.2) (2020.6.20)\n",
      "Requirement already satisfied: chardet<4,>=3.0.2 in /usr/local/lib/python3.6/dist-packages (from requests<3,>=2.21.0->tensorboard<2.3.0,>=2.2.0->tensorflow==2.2) (3.0.4)\n",
      "Requirement already satisfied: idna<3,>=2.5 in /usr/local/lib/python3.6/dist-packages (from requests<3,>=2.21.0->tensorboard<2.3.0,>=2.2.0->tensorflow==2.2) (2.10)\n",
      "Requirement already satisfied: urllib3!=1.25.0,!=1.25.1,<1.26,>=1.21.1 in /usr/local/lib/python3.6/dist-packages (from requests<3,>=2.21.0->tensorboard<2.3.0,>=2.2.0->tensorflow==2.2) (1.24.3)\n",
      "Requirement already satisfied: pyasn1-modules>=0.2.1 in /usr/local/lib/python3.6/dist-packages (from google-auth<2,>=1.6.3->tensorboard<2.3.0,>=2.2.0->tensorflow==2.2) (0.2.8)\n",
      "Requirement already satisfied: rsa<5,>=3.1.4; python_version >= \"3\" in /usr/local/lib/python3.6/dist-packages (from google-auth<2,>=1.6.3->tensorboard<2.3.0,>=2.2.0->tensorflow==2.2) (4.6)\n",
      "Requirement already satisfied: cachetools<5.0,>=2.0.0 in /usr/local/lib/python3.6/dist-packages (from google-auth<2,>=1.6.3->tensorboard<2.3.0,>=2.2.0->tensorflow==2.2) (4.1.1)\n",
      "Requirement already satisfied: oauthlib>=3.0.0 in /usr/local/lib/python3.6/dist-packages (from requests-oauthlib>=0.7.0->google-auth-oauthlib<0.5,>=0.4.1->tensorboard<2.3.0,>=2.2.0->tensorflow==2.2) (3.1.0)\n",
      "Requirement already satisfied: zipp>=0.5 in /usr/local/lib/python3.6/dist-packages (from importlib-metadata; python_version < \"3.8\"->markdown>=2.6.8->tensorboard<2.3.0,>=2.2.0->tensorflow==2.2) (3.1.0)\n",
      "Requirement already satisfied: pyasn1<0.5.0,>=0.4.6 in /usr/local/lib/python3.6/dist-packages (from pyasn1-modules>=0.2.1->google-auth<2,>=1.6.3->tensorboard<2.3.0,>=2.2.0->tensorflow==2.2) (0.4.8)\n"
     ]
    }
   ],
   "source": [
    "!pip install tensorflow=='2.2'"
   ]
  },
  {
   "cell_type": "code",
   "execution_count": 3,
   "metadata": {
    "colab": {
     "base_uri": "https://localhost:8080/",
     "height": 752
    },
    "colab_type": "code",
    "id": "aty9vaC_APRh",
    "outputId": "34da2000-52b9-4acc-b107-3cbf0eebfcb5"
   },
   "outputs": [
    {
     "name": "stdout",
     "output_type": "stream",
     "text": [
      "Tensorflow version 2.2.0\n",
      "Running on TPU  ['10.67.78.58:8470']\n",
      "INFO:tensorflow:Initializing the TPU system: grpc://10.67.78.58:8470\n"
     ]
    },
    {
     "name": "stderr",
     "output_type": "stream",
     "text": [
      "INFO:tensorflow:Initializing the TPU system: grpc://10.67.78.58:8470\n"
     ]
    },
    {
     "name": "stdout",
     "output_type": "stream",
     "text": [
      "INFO:tensorflow:Clearing out eager caches\n"
     ]
    },
    {
     "name": "stderr",
     "output_type": "stream",
     "text": [
      "INFO:tensorflow:Clearing out eager caches\n"
     ]
    },
    {
     "name": "stdout",
     "output_type": "stream",
     "text": [
      "INFO:tensorflow:Finished initializing TPU system.\n"
     ]
    },
    {
     "name": "stderr",
     "output_type": "stream",
     "text": [
      "INFO:tensorflow:Finished initializing TPU system.\n"
     ]
    },
    {
     "name": "stdout",
     "output_type": "stream",
     "text": [
      "INFO:tensorflow:Found TPU system:\n"
     ]
    },
    {
     "name": "stderr",
     "output_type": "stream",
     "text": [
      "INFO:tensorflow:Found TPU system:\n"
     ]
    },
    {
     "name": "stdout",
     "output_type": "stream",
     "text": [
      "INFO:tensorflow:*** Num TPU Cores: 8\n"
     ]
    },
    {
     "name": "stderr",
     "output_type": "stream",
     "text": [
      "INFO:tensorflow:*** Num TPU Cores: 8\n"
     ]
    },
    {
     "name": "stdout",
     "output_type": "stream",
     "text": [
      "INFO:tensorflow:*** Num TPU Workers: 1\n"
     ]
    },
    {
     "name": "stderr",
     "output_type": "stream",
     "text": [
      "INFO:tensorflow:*** Num TPU Workers: 1\n"
     ]
    },
    {
     "name": "stdout",
     "output_type": "stream",
     "text": [
      "INFO:tensorflow:*** Num TPU Cores Per Worker: 8\n"
     ]
    },
    {
     "name": "stderr",
     "output_type": "stream",
     "text": [
      "INFO:tensorflow:*** Num TPU Cores Per Worker: 8\n"
     ]
    },
    {
     "name": "stdout",
     "output_type": "stream",
     "text": [
      "INFO:tensorflow:*** Available Device: _DeviceAttributes(/job:localhost/replica:0/task:0/device:CPU:0, CPU, 0, 0)\n"
     ]
    },
    {
     "name": "stderr",
     "output_type": "stream",
     "text": [
      "INFO:tensorflow:*** Available Device: _DeviceAttributes(/job:localhost/replica:0/task:0/device:CPU:0, CPU, 0, 0)\n"
     ]
    },
    {
     "name": "stdout",
     "output_type": "stream",
     "text": [
      "INFO:tensorflow:*** Available Device: _DeviceAttributes(/job:localhost/replica:0/task:0/device:XLA_CPU:0, XLA_CPU, 0, 0)\n"
     ]
    },
    {
     "name": "stderr",
     "output_type": "stream",
     "text": [
      "INFO:tensorflow:*** Available Device: _DeviceAttributes(/job:localhost/replica:0/task:0/device:XLA_CPU:0, XLA_CPU, 0, 0)\n"
     ]
    },
    {
     "name": "stdout",
     "output_type": "stream",
     "text": [
      "INFO:tensorflow:*** Available Device: _DeviceAttributes(/job:worker/replica:0/task:0/device:CPU:0, CPU, 0, 0)\n"
     ]
    },
    {
     "name": "stderr",
     "output_type": "stream",
     "text": [
      "INFO:tensorflow:*** Available Device: _DeviceAttributes(/job:worker/replica:0/task:0/device:CPU:0, CPU, 0, 0)\n"
     ]
    },
    {
     "name": "stdout",
     "output_type": "stream",
     "text": [
      "INFO:tensorflow:*** Available Device: _DeviceAttributes(/job:worker/replica:0/task:0/device:TPU:0, TPU, 0, 0)\n"
     ]
    },
    {
     "name": "stderr",
     "output_type": "stream",
     "text": [
      "INFO:tensorflow:*** Available Device: _DeviceAttributes(/job:worker/replica:0/task:0/device:TPU:0, TPU, 0, 0)\n"
     ]
    },
    {
     "name": "stdout",
     "output_type": "stream",
     "text": [
      "INFO:tensorflow:*** Available Device: _DeviceAttributes(/job:worker/replica:0/task:0/device:TPU:1, TPU, 0, 0)\n"
     ]
    },
    {
     "name": "stderr",
     "output_type": "stream",
     "text": [
      "INFO:tensorflow:*** Available Device: _DeviceAttributes(/job:worker/replica:0/task:0/device:TPU:1, TPU, 0, 0)\n"
     ]
    },
    {
     "name": "stdout",
     "output_type": "stream",
     "text": [
      "INFO:tensorflow:*** Available Device: _DeviceAttributes(/job:worker/replica:0/task:0/device:TPU:2, TPU, 0, 0)\n"
     ]
    },
    {
     "name": "stderr",
     "output_type": "stream",
     "text": [
      "INFO:tensorflow:*** Available Device: _DeviceAttributes(/job:worker/replica:0/task:0/device:TPU:2, TPU, 0, 0)\n"
     ]
    },
    {
     "name": "stdout",
     "output_type": "stream",
     "text": [
      "INFO:tensorflow:*** Available Device: _DeviceAttributes(/job:worker/replica:0/task:0/device:TPU:3, TPU, 0, 0)\n"
     ]
    },
    {
     "name": "stderr",
     "output_type": "stream",
     "text": [
      "INFO:tensorflow:*** Available Device: _DeviceAttributes(/job:worker/replica:0/task:0/device:TPU:3, TPU, 0, 0)\n"
     ]
    },
    {
     "name": "stdout",
     "output_type": "stream",
     "text": [
      "INFO:tensorflow:*** Available Device: _DeviceAttributes(/job:worker/replica:0/task:0/device:TPU:4, TPU, 0, 0)\n"
     ]
    },
    {
     "name": "stderr",
     "output_type": "stream",
     "text": [
      "INFO:tensorflow:*** Available Device: _DeviceAttributes(/job:worker/replica:0/task:0/device:TPU:4, TPU, 0, 0)\n"
     ]
    },
    {
     "name": "stdout",
     "output_type": "stream",
     "text": [
      "INFO:tensorflow:*** Available Device: _DeviceAttributes(/job:worker/replica:0/task:0/device:TPU:5, TPU, 0, 0)\n"
     ]
    },
    {
     "name": "stderr",
     "output_type": "stream",
     "text": [
      "INFO:tensorflow:*** Available Device: _DeviceAttributes(/job:worker/replica:0/task:0/device:TPU:5, TPU, 0, 0)\n"
     ]
    },
    {
     "name": "stdout",
     "output_type": "stream",
     "text": [
      "INFO:tensorflow:*** Available Device: _DeviceAttributes(/job:worker/replica:0/task:0/device:TPU:6, TPU, 0, 0)\n"
     ]
    },
    {
     "name": "stderr",
     "output_type": "stream",
     "text": [
      "INFO:tensorflow:*** Available Device: _DeviceAttributes(/job:worker/replica:0/task:0/device:TPU:6, TPU, 0, 0)\n"
     ]
    },
    {
     "name": "stdout",
     "output_type": "stream",
     "text": [
      "INFO:tensorflow:*** Available Device: _DeviceAttributes(/job:worker/replica:0/task:0/device:TPU:7, TPU, 0, 0)\n"
     ]
    },
    {
     "name": "stderr",
     "output_type": "stream",
     "text": [
      "INFO:tensorflow:*** Available Device: _DeviceAttributes(/job:worker/replica:0/task:0/device:TPU:7, TPU, 0, 0)\n"
     ]
    },
    {
     "name": "stdout",
     "output_type": "stream",
     "text": [
      "INFO:tensorflow:*** Available Device: _DeviceAttributes(/job:worker/replica:0/task:0/device:TPU_SYSTEM:0, TPU_SYSTEM, 0, 0)\n"
     ]
    },
    {
     "name": "stderr",
     "output_type": "stream",
     "text": [
      "INFO:tensorflow:*** Available Device: _DeviceAttributes(/job:worker/replica:0/task:0/device:TPU_SYSTEM:0, TPU_SYSTEM, 0, 0)\n"
     ]
    },
    {
     "name": "stdout",
     "output_type": "stream",
     "text": [
      "INFO:tensorflow:*** Available Device: _DeviceAttributes(/job:worker/replica:0/task:0/device:XLA_CPU:0, XLA_CPU, 0, 0)\n"
     ]
    },
    {
     "name": "stderr",
     "output_type": "stream",
     "text": [
      "INFO:tensorflow:*** Available Device: _DeviceAttributes(/job:worker/replica:0/task:0/device:XLA_CPU:0, XLA_CPU, 0, 0)\n"
     ]
    }
   ],
   "source": [
    "%tensorflow_version 2.x\n",
    "import tensorflow as tf\n",
    "print(\"Tensorflow version \" + tf.__version__)\n",
    "\n",
    "try:\n",
    "  tpu = tf.distribute.cluster_resolver.TPUClusterResolver()  # TPU detection\n",
    "  print('Running on TPU ', tpu.cluster_spec().as_dict()['worker'])\n",
    "except ValueError:\n",
    "  raise BaseException('ERROR: Not connected to a TPU runtime; please see the previous cell in this notebook for instructions!')\n",
    "\n",
    "tf.config.experimental_connect_to_cluster(tpu)\n",
    "tf.tpu.experimental.initialize_tpu_system(tpu)\n",
    "tpu_strategy = tf.distribute.experimental.TPUStrategy(tpu)"
   ]
  },
  {
   "cell_type": "code",
   "execution_count": 58,
   "metadata": {
    "colab": {},
    "colab_type": "code",
    "id": "kAcVZ2b1AuVW"
   },
   "outputs": [],
   "source": [
    "import numpy as np\n",
    "import pandas as pd \n",
    "from PIL import Image\n",
    "from tqdm import tqdm\n",
    "import os\n",
    "import shutil\n",
    "import itertools\n",
    "import tensorflow"
   ]
  },
  {
   "cell_type": "markdown",
   "metadata": {
    "colab_type": "text",
    "id": "K8oSgClogQsP"
   },
   "source": [
    "# **Data Preparation**"
   ]
  },
  {
   "cell_type": "code",
   "execution_count": 5,
   "metadata": {
    "colab": {},
    "colab_type": "code",
    "id": "3-mgq2IrEe7P"
   },
   "outputs": [],
   "source": [
    "csv_path='/content/drive/My Drive/Colab Notebooks/fer2013.csv'\n",
    "data=pd.read_csv(csv_path)\n"
   ]
  },
  {
   "cell_type": "code",
   "execution_count": 6,
   "metadata": {
    "colab": {
     "base_uri": "https://localhost:8080/",
     "height": 122
    },
    "colab_type": "code",
    "id": "GITVF1ICFVQv",
    "outputId": "d14490fe-fa66-4f3e-ca9b-35dc88765e61"
   },
   "outputs": [
    {
     "name": "stdout",
     "output_type": "stream",
     "text": [
      "   emotion                                             pixels     Usage\n",
      "0        0  70 80 82 72 58 58 60 63 54 58 60 48 89 115 121...  Training\n",
      "1        0  151 150 147 155 148 133 111 140 170 174 182 15...  Training\n",
      "2        2  231 212 156 164 174 138 161 173 182 200 106 38...  Training\n",
      "3        4  24 32 36 30 32 23 19 20 30 41 21 22 32 34 21 1...  Training\n",
      "4        6  4 0 0 0 0 0 0 0 0 0 0 0 3 15 23 28 48 50 58 84...  Training\n"
     ]
    }
   ],
   "source": [
    "print(data.head())"
   ]
  },
  {
   "cell_type": "code",
   "execution_count": 7,
   "metadata": {
    "colab": {
     "base_uri": "https://localhost:8080/",
     "height": 157
    },
    "colab_type": "code",
    "id": "kp6qJsBdFnlQ",
    "outputId": "fd2926c6-a3f9-4455-8c31-9640ec1c49ee"
   },
   "outputs": [
    {
     "data": {
      "text/plain": [
       "3    8989\n",
       "6    6198\n",
       "4    6077\n",
       "2    5121\n",
       "0    4953\n",
       "5    4002\n",
       "1     547\n",
       "Name: emotion, dtype: int64"
      ]
     },
     "execution_count": 7,
     "metadata": {
      "tags": []
     },
     "output_type": "execute_result"
    }
   ],
   "source": [
    "data['emotion'].value_counts()"
   ]
  },
  {
   "cell_type": "code",
   "execution_count": 8,
   "metadata": {
    "colab": {},
    "colab_type": "code",
    "id": "CZ9GkbeYeUV-"
   },
   "outputs": [],
   "source": [
    "outer_names = ['test','train']\n",
    "inner_names = ['angry', 'disgusted', 'fearful', 'happy', 'sad', 'surprised', 'neutral']\n",
    "os.makedirs('data', exist_ok=True)\n",
    "for outer_name in outer_names:\n",
    "    os.makedirs(os.path.join('data',outer_name), exist_ok=True)\n",
    "    for inner_name in inner_names:\n",
    "        os.makedirs(os.path.join('data',outer_name,inner_name), exist_ok=True)"
   ]
  },
  {
   "cell_type": "code",
   "execution_count": 9,
   "metadata": {
    "colab": {},
    "colab_type": "code",
    "id": "AfaI7cXre7O7"
   },
   "outputs": [],
   "source": [
    "# convert string to integer\n",
    "def atoi(s):\n",
    "    n = 0\n",
    "    for i in s:\n",
    "        n = n*10 + ord(i) - ord(\"0\")\n",
    "    return n"
   ]
  },
  {
   "cell_type": "code",
   "execution_count": 10,
   "metadata": {
    "colab": {
     "base_uri": "https://localhost:8080/",
     "height": 70
    },
    "colab_type": "code",
    "id": "AJfN5BdQecoe",
    "outputId": "d64e0186-4789-4e8d-969f-fbb9211d156f"
   },
   "outputs": [
    {
     "name": "stderr",
     "output_type": "stream",
     "text": [
      "\r",
      "  0%|          | 0/35887 [00:00<?, ?it/s]"
     ]
    },
    {
     "name": "stdout",
     "output_type": "stream",
     "text": [
      "Saving images...\n"
     ]
    },
    {
     "name": "stderr",
     "output_type": "stream",
     "text": [
      "100%|██████████| 35887/35887 [02:09<00:00, 277.91it/s]"
     ]
    },
    {
     "name": "stdout",
     "output_type": "stream",
     "text": [
      "Done!\n"
     ]
    },
    {
     "name": "stderr",
     "output_type": "stream",
     "text": [
      "\n"
     ]
    }
   ],
   "source": [
    "# to keep count of each category\n",
    "angry = 0\n",
    "disgusted = 0\n",
    "fearful = 0\n",
    "happy = 0\n",
    "sad = 0\n",
    "surprised = 0\n",
    "neutral = 0\n",
    "angry_test = 0\n",
    "disgusted_test = 0\n",
    "fearful_test = 0\n",
    "happy_test = 0\n",
    "sad_test = 0\n",
    "surprised_test = 0\n",
    "neutral_test = 0\n",
    "\n",
    "df = data\n",
    "mat = np.zeros((48,48),dtype=np.uint8)\n",
    "print(\"Saving images...\")\n",
    "\n",
    "# read the csv file line by line\n",
    "for i in tqdm(range(len(df))):\n",
    "    txt = df['pixels'][i]\n",
    "    words = txt.split()\n",
    "    \n",
    "    # the image size is 48x48\n",
    "    for j in range(2304):\n",
    "        xind = j // 48\n",
    "        yind = j % 48\n",
    "        mat[xind][yind] = atoi(words[j])\n",
    "\n",
    "    img = Image.fromarray(mat)\n",
    "\n",
    "    # train\n",
    "    if i < 28709:\n",
    "        if df['emotion'][i] == 0:\n",
    "            img.save('data/train/angry/im'+str(angry)+'.png')\n",
    "            angry += 1\n",
    "        elif df['emotion'][i] == 1:\n",
    "            img.save('data/train/disgusted/im'+str(disgusted)+'.png')\n",
    "            disgusted += 1\n",
    "        elif df['emotion'][i] == 2:\n",
    "            img.save('data/train/fearful/im'+str(fearful)+'.png')\n",
    "            fearful += 1\n",
    "        elif df['emotion'][i] == 3:\n",
    "            img.save('data/train/happy/im'+str(happy)+'.png')\n",
    "            happy += 1\n",
    "        elif df['emotion'][i] == 4:\n",
    "            img.save('data/train/sad/im'+str(sad)+'.png')\n",
    "            sad += 1\n",
    "        elif df['emotion'][i] == 5:\n",
    "            img.save('data/train/surprised/im'+str(surprised)+'.png')\n",
    "            surprised += 1\n",
    "        elif df['emotion'][i] == 6:\n",
    "            img.save('data/train/neutral/im'+str(neutral)+'.png')\n",
    "            neutral += 1\n",
    "\n",
    "    # test\n",
    "    else:\n",
    "        if df['emotion'][i] == 0:\n",
    "            img.save('data/test/angry/im'+str(angry_test)+'.png')\n",
    "            angry_test += 1\n",
    "        elif df['emotion'][i] == 1:\n",
    "            img.save('data/test/disgusted/im'+str(disgusted_test)+'.png')\n",
    "            disgusted_test += 1\n",
    "        elif df['emotion'][i] == 2:\n",
    "            img.save('data/test/fearful/im'+str(fearful_test)+'.png')\n",
    "            fearful_test += 1\n",
    "        elif df['emotion'][i] == 3:\n",
    "            img.save('data/test/happy/im'+str(happy_test)+'.png')\n",
    "            happy_test += 1\n",
    "        elif df['emotion'][i] == 4:\n",
    "            img.save('data/test/sad/im'+str(sad_test)+'.png')\n",
    "            sad_test += 1\n",
    "        elif df['emotion'][i] == 5:\n",
    "            img.save('data/test/surprised/im'+str(surprised_test)+'.png')\n",
    "            surprised_test += 1\n",
    "        elif df['emotion'][i] == 6:\n",
    "            img.save('data/test/neutral/im'+str(neutral_test)+'.png')\n",
    "            neutral_test += 1\n",
    "\n",
    "print(\"Done!\")"
   ]
  },
  {
   "cell_type": "code",
   "execution_count": 22,
   "metadata": {
    "colab": {
     "base_uri": "https://localhost:8080/",
     "height": 140
    },
    "colab_type": "code",
    "id": "3_E10ia-ud3f",
    "outputId": "d07e8e27-62bf-4910-903e-0e83afff0792"
   },
   "outputs": [
    {
     "name": "stdout",
     "output_type": "stream",
     "text": [
      "Found 3995 images belonging to 1 classes.\n",
      "Found 436 images belonging to 1 classes.\n",
      "Found 4097 images belonging to 1 classes.\n",
      "Found 7215 images belonging to 1 classes.\n",
      "Found 4830 images belonging to 1 classes.\n",
      "Found 3171 images belonging to 1 classes.\n",
      "Found 4965 images belonging to 1 classes.\n"
     ]
    }
   ],
   "source": [
    "import shutil\n",
    "class_list=['angry', 'disgusted', 'fearful', 'happy', 'sad', 'surprised', 'neutral']\n",
    "\n",
    "for item in class_list:\n",
    "  # We are creating temporary directories here because we delete these directories later\n",
    "  # create a base dir\n",
    "  aug_dir = 'aug_dir'\n",
    "  os.mkdir(aug_dir)\n",
    "  img_dir = os.path.join(aug_dir, 'img_dir')\n",
    "  os.mkdir(img_dir)\n",
    "\n",
    "  # Choose a class\n",
    "  img_class = item\n",
    "\n",
    "  # list all images in that directory\n",
    "  img_list = os.listdir('data/train/' + img_class)\n",
    "\n",
    "  # Copy images from the class train dir to the img_dir e.g. class 'bacterial'\n",
    "  for fname in img_list:\n",
    "    # source path to image\n",
    "    src = os.path.join('data/train/' + img_class, fname)\n",
    "    # destination path to image\n",
    "    dst = os.path.join(img_dir, fname)\n",
    "    # copy the image from the source to the destination\n",
    "    shutil.copyfile(src, dst)\n",
    "  \n",
    "  # point to a dir containing the images and not to the images themselves\n",
    "  path = aug_dir\n",
    "  save_path = 'data/train/' + img_class\n",
    "\n",
    "  # Create a data generator\n",
    "  datagen = ImageDataGenerator(\n",
    "      rotation_range=10,\n",
    "      width_shift_range=0.05,\n",
    "      height_shift_range=0.05,\n",
    "      zoom_range=0.05,\n",
    "      horizontal_flip=True,\n",
    "      fill_mode='nearest')\n",
    "\n",
    "  batch_size = 64\n",
    "\n",
    "  aug_datagen = datagen.flow_from_directory(path,\n",
    "                                          save_to_dir=save_path,\n",
    "                                          save_format='jpg',\n",
    "                                                  target_size=(48,48),\n",
    "                                                  batch_size=batch_size)\n",
    "  \n",
    "\n",
    "  # Generate the augmented images and add them to the training folders\n",
    "  \n",
    "  ###########\n",
    "  \n",
    "  num_aug_images_wanted = 10000 # total number of images we want to have in each class\n",
    "  \n",
    "  ###########\n",
    "\n",
    "  num_files = len(os.listdir(img_dir))\n",
    "  num_batches = int(np.ceil((num_aug_images_wanted-num_files)/batch_size))\n",
    "\n",
    "  # run the generator and create augmented images\n",
    "  for i in range(0,num_batches):\n",
    "    imgs, labels = next(aug_datagen)\n",
    "      \n",
    "  # delete temporary directory with the raw image files\n",
    "  shutil.rmtree('aug_dir')"
   ]
  },
  {
   "cell_type": "code",
   "execution_count": 29,
   "metadata": {
    "colab": {
     "base_uri": "https://localhost:8080/",
     "height": 35
    },
    "colab_type": "code",
    "id": "yx_LMNtCvkQv",
    "outputId": "021f7d1c-641d-4d8a-c1ad-ee6919553148"
   },
   "outputs": [
    {
     "name": "stdout",
     "output_type": "stream",
     "text": [
      "69710\n"
     ]
    }
   ],
   "source": [
    "class_list=['angry', 'disgusted', 'fearful', 'happy', 'sad', 'surprised', 'neutral']\n",
    "total_images=0;\n",
    "for item in class_list: \n",
    "  total_images+=len(os.listdir('data/train/'+item))\n",
    "# print(len(os.listdir('base_dir/train_dir/bacterial')))\n",
    "# print(len(os.listdir('base_dir/train_dir/viral')))\n",
    "print(total_images)"
   ]
  },
  {
   "cell_type": "markdown",
   "metadata": {
    "colab_type": "text",
    "id": "qr55WFBQgXRX"
   },
   "source": [
    "**Data Preparation Done**"
   ]
  },
  {
   "cell_type": "markdown",
   "metadata": {
    "colab_type": "text",
    "id": "O3k3xuewgbsv"
   },
   "source": [
    "# **Model Building With Data Generators**"
   ]
  },
  {
   "cell_type": "code",
   "execution_count": 53,
   "metadata": {
    "colab": {},
    "colab_type": "code",
    "id": "AU0KnOSFgICP"
   },
   "outputs": [],
   "source": [
    "import matplotlib.pyplot as plt\n",
    "import cv2\n",
    "# from tensorflow.keras.models import Sequential\n",
    "# from tensorflow.keras.layers import Dense, Dropout, Flatten\n",
    "# from tensorflow.keras.layers import Conv2D\n",
    "# from tensorflow.keras.optimizers import Adam\n",
    "# from tensorflow.keras.layers import MaxPooling2D\n",
    "# from tensorflow.keras.preprocessing.image import ImageDataGenerator\n",
    "# from tensorflow.keras.callbacks import EarlyStopping, ReduceLROnPlateau, ModelCheckpoint\n",
    "# from tensorflow.keras.metrics import categorical_accuracy, top_k_categorical_accuracy\n",
    "\n",
    "\n",
    "from sklearn.metrics import confusion_matrix\n",
    "\n",
    "import keras\n",
    "from keras import backend as K\n",
    "from keras.layers import Conv2D, MaxPooling2D, Dropout, Dense, Flatten\n",
    "# from keras.layers.core import Dense, Dropout\n",
    "from keras.optimizers import Adam\n",
    "from keras.metrics import categorical_crossentropy\n",
    "from keras.preprocessing.image import ImageDataGenerator\n",
    "from keras.models import Model, Sequential\n",
    "from keras.callbacks import EarlyStopping, ReduceLROnPlateau, ModelCheckpoint\n",
    "from tensorflow.keras.metrics import categorical_accuracy, top_k_categorical_accuracy"
   ]
  },
  {
   "cell_type": "code",
   "execution_count": 26,
   "metadata": {
    "colab": {},
    "colab_type": "code",
    "id": "e0iU2kL2ijrf"
   },
   "outputs": [],
   "source": [
    "def plot_model_history(model_history):\n",
    "    \"\"\"\n",
    "    Plot Accuracy and Loss curves given the model_history\n",
    "    \"\"\"\n",
    "    fig, axs = plt.subplots(1,2,figsize=(15,5))\n",
    "    # summarize history for accuracy\n",
    "    axs[0].plot(range(1,len(model_history.history['accuracy'])+1),model_history.history['accuracy'])\n",
    "    axs[0].plot(range(1,len(model_history.history['val_accuracy'])+1),model_history.history['val_accuracy'])\n",
    "    axs[0].set_title('Model Accuracy')\n",
    "    axs[0].set_ylabel('Accuracy')\n",
    "    axs[0].set_xlabel('Epoch')\n",
    "    axs[0].set_xticks(np.arange(1,len(model_history.history['accuracy'])+1),len(model_history.history['accuracy'])/10)\n",
    "    axs[0].legend(['train', 'val'], loc='best')\n",
    "    # summarize history for loss\n",
    "    axs[1].plot(range(1,len(model_history.history['loss'])+1),model_history.history['loss'])\n",
    "    axs[1].plot(range(1,len(model_history.history['val_loss'])+1),model_history.history['val_loss'])\n",
    "    axs[1].set_title('Model Loss')\n",
    "    axs[1].set_ylabel('Loss')\n",
    "    axs[1].set_xlabel('Epoch')\n",
    "    axs[1].set_xticks(np.arange(1,len(model_history.history['loss'])+1),len(model_history.history['loss'])/10)\n",
    "    axs[1].legend(['train', 'val'], loc='best')\n",
    "    fig.savefig('plot.png')\n",
    "    plt.show()"
   ]
  },
  {
   "cell_type": "code",
   "execution_count": 30,
   "metadata": {
    "colab": {},
    "colab_type": "code",
    "id": "PZJVkg0DhDxZ"
   },
   "outputs": [],
   "source": [
    "num_train = total_images\n",
    "num_val = 7178\n",
    "batch_size = 256\n",
    "num_epoch = 50"
   ]
  },
  {
   "cell_type": "code",
   "execution_count": 31,
   "metadata": {
    "colab": {
     "base_uri": "https://localhost:8080/",
     "height": 52
    },
    "colab_type": "code",
    "id": "xblh-NDahVN8",
    "outputId": "6c4501d5-54b5-4445-b80a-25a2b23067b8"
   },
   "outputs": [
    {
     "name": "stdout",
     "output_type": "stream",
     "text": [
      "Found 69710 images belonging to 7 classes.\n",
      "Found 7178 images belonging to 7 classes.\n"
     ]
    }
   ],
   "source": [
    "# Define data generators\n",
    "train_dir = 'data/train'\n",
    "val_dir = 'data/test'\n",
    "\n",
    "train_datagen = ImageDataGenerator(rescale=1./255)\n",
    "val_datagen = ImageDataGenerator(rescale=1./255)\n",
    "\n",
    "\n",
    "train_generator = train_datagen.flow_from_directory(\n",
    "        train_dir,\n",
    "        target_size=(48,48),\n",
    "        batch_size=batch_size,\n",
    "        color_mode=\"grayscale\",\n",
    "        class_mode='categorical')\n",
    "\n",
    "validation_generator = val_datagen.flow_from_directory(\n",
    "        val_dir,\n",
    "        target_size=(48,48),\n",
    "        batch_size=batch_size,\n",
    "        color_mode=\"grayscale\",\n",
    "        class_mode='categorical')"
   ]
  },
  {
   "cell_type": "code",
   "execution_count": 32,
   "metadata": {
    "colab": {},
    "colab_type": "code",
    "id": "aJ2qIKSfhWeH"
   },
   "outputs": [],
   "source": [
    "# Create the model\n",
    "model = Sequential()\n",
    "\n",
    "model.add(Conv2D(32, kernel_size=(3, 3), activation='relu', input_shape=(48,48,1)))\n",
    "model.add(Conv2D(64, kernel_size=(3, 3), activation='relu'))\n",
    "model.add(MaxPooling2D(pool_size=(2, 2)))\n",
    "model.add(Dropout(0.25))\n",
    "\n",
    "model.add(Conv2D(128, kernel_size=(3, 3), activation='relu'))\n",
    "model.add(MaxPooling2D(pool_size=(2, 2)))\n",
    "model.add(Conv2D(128, kernel_size=(3, 3), activation='relu'))\n",
    "model.add(MaxPooling2D(pool_size=(2, 2)))\n",
    "model.add(Dropout(0.25))\n",
    "\n",
    "model.add(Flatten())\n",
    "model.add(Dense(1024, activation='relu'))\n",
    "model.add(Dropout(0.5))\n",
    "model.add(Dense(7, activation='softmax'))"
   ]
  },
  {
   "cell_type": "code",
   "execution_count": 33,
   "metadata": {
    "colab": {
     "base_uri": "https://localhost:8080/",
     "height": 612
    },
    "colab_type": "code",
    "id": "WA3tDTLqpDOP",
    "outputId": "3da787ad-4b45-4313-d889-35c20b07f6f4"
   },
   "outputs": [
    {
     "name": "stdout",
     "output_type": "stream",
     "text": [
      "Model: \"sequential_2\"\n",
      "_________________________________________________________________\n",
      "Layer (type)                 Output Shape              Param #   \n",
      "=================================================================\n",
      "conv2d_5 (Conv2D)            (None, 46, 46, 32)        320       \n",
      "_________________________________________________________________\n",
      "conv2d_6 (Conv2D)            (None, 44, 44, 64)        18496     \n",
      "_________________________________________________________________\n",
      "max_pooling2d_4 (MaxPooling2 (None, 22, 22, 64)        0         \n",
      "_________________________________________________________________\n",
      "dropout_4 (Dropout)          (None, 22, 22, 64)        0         \n",
      "_________________________________________________________________\n",
      "conv2d_7 (Conv2D)            (None, 20, 20, 128)       73856     \n",
      "_________________________________________________________________\n",
      "max_pooling2d_5 (MaxPooling2 (None, 10, 10, 128)       0         \n",
      "_________________________________________________________________\n",
      "conv2d_8 (Conv2D)            (None, 8, 8, 128)         147584    \n",
      "_________________________________________________________________\n",
      "max_pooling2d_6 (MaxPooling2 (None, 4, 4, 128)         0         \n",
      "_________________________________________________________________\n",
      "dropout_5 (Dropout)          (None, 4, 4, 128)         0         \n",
      "_________________________________________________________________\n",
      "flatten_2 (Flatten)          (None, 2048)              0         \n",
      "_________________________________________________________________\n",
      "dense_3 (Dense)              (None, 1024)              2098176   \n",
      "_________________________________________________________________\n",
      "dropout_6 (Dropout)          (None, 1024)              0         \n",
      "_________________________________________________________________\n",
      "dense_4 (Dense)              (None, 7)                 7175      \n",
      "=================================================================\n",
      "Total params: 2,345,607\n",
      "Trainable params: 2,345,607\n",
      "Non-trainable params: 0\n",
      "_________________________________________________________________\n"
     ]
    }
   ],
   "source": [
    "model.summary()"
   ]
  },
  {
   "cell_type": "code",
   "execution_count": 17,
   "metadata": {
    "colab": {},
    "colab_type": "code",
    "id": "kllaGZ53iL3q"
   },
   "outputs": [],
   "source": [
    "model.compile(loss='categorical_crossentropy',optimizer=Adam(lr=0.0001, decay=1e-6),metrics=['accuracy'])"
   ]
  },
  {
   "cell_type": "code",
   "execution_count": 34,
   "metadata": {
    "colab": {
     "base_uri": "https://localhost:8080/",
     "height": 1000
    },
    "colab_type": "code",
    "id": "NGWENBQth3Rw",
    "outputId": "741bd21f-c5b6-40d0-ce19-1a1407bcb9b2"
   },
   "outputs": [
    {
     "name": "stdout",
     "output_type": "stream",
     "text": [
      "Epoch 1/50\n",
      "272/272 [==============================] - 55s 202ms/step - loss: 1.8919 - accuracy: 0.2105 - categorical_accuracy: 0.2105 - val_loss: 1.8097 - val_accuracy: 0.2900 - val_categorical_accuracy: 0.2900\n",
      "\n",
      "Epoch 00001: val_categorical_accuracy improved from -inf to 0.29004, saving model to face_emotion_model.h5\n",
      "Epoch 2/50\n",
      "272/272 [==============================] - 55s 202ms/step - loss: 1.7240 - accuracy: 0.3334 - categorical_accuracy: 0.3334 - val_loss: 1.6401 - val_accuracy: 0.3847 - val_categorical_accuracy: 0.3847\n",
      "\n",
      "Epoch 00002: val_categorical_accuracy improved from 0.29004 to 0.38472, saving model to face_emotion_model.h5\n",
      "Epoch 3/50\n",
      "272/272 [==============================] - 55s 203ms/step - loss: 1.6199 - accuracy: 0.3825 - categorical_accuracy: 0.3825 - val_loss: 1.5439 - val_accuracy: 0.4218 - val_categorical_accuracy: 0.4218\n",
      "\n",
      "Epoch 00003: val_categorical_accuracy improved from 0.38472 to 0.42184, saving model to face_emotion_model.h5\n",
      "Epoch 4/50\n",
      "272/272 [==============================] - 55s 200ms/step - loss: 1.5327 - accuracy: 0.4213 - categorical_accuracy: 0.4213 - val_loss: 1.5207 - val_accuracy: 0.4604 - val_categorical_accuracy: 0.4604\n",
      "\n",
      "Epoch 00004: val_categorical_accuracy improved from 0.42184 to 0.46042, saving model to face_emotion_model.h5\n",
      "Epoch 5/50\n",
      "272/272 [==============================] - 55s 203ms/step - loss: 1.4633 - accuracy: 0.4494 - categorical_accuracy: 0.4494 - val_loss: 1.3893 - val_accuracy: 0.4883 - val_categorical_accuracy: 0.4883\n",
      "\n",
      "Epoch 00005: val_categorical_accuracy improved from 0.46042 to 0.48830, saving model to face_emotion_model.h5\n",
      "Epoch 6/50\n",
      "272/272 [==============================] - 56s 205ms/step - loss: 1.4104 - accuracy: 0.4711 - categorical_accuracy: 0.4711 - val_loss: 1.2307 - val_accuracy: 0.4949 - val_categorical_accuracy: 0.4949\n",
      "\n",
      "Epoch 00006: val_categorical_accuracy improved from 0.48830 to 0.49494, saving model to face_emotion_model.h5\n",
      "Epoch 7/50\n",
      "272/272 [==============================] - 54s 199ms/step - loss: 1.3618 - accuracy: 0.4891 - categorical_accuracy: 0.4891 - val_loss: 1.2672 - val_accuracy: 0.5088 - val_categorical_accuracy: 0.5088\n",
      "\n",
      "Epoch 00007: val_categorical_accuracy improved from 0.49494 to 0.50881, saving model to face_emotion_model.h5\n",
      "Epoch 8/50\n",
      "272/272 [==============================] - 53s 196ms/step - loss: 1.3216 - accuracy: 0.5071 - categorical_accuracy: 0.5071 - val_loss: 1.3004 - val_accuracy: 0.5231 - val_categorical_accuracy: 0.5231\n",
      "\n",
      "Epoch 00008: val_categorical_accuracy improved from 0.50881 to 0.52311, saving model to face_emotion_model.h5\n",
      "Epoch 9/50\n",
      "272/272 [==============================] - 53s 197ms/step - loss: 1.2816 - accuracy: 0.5214 - categorical_accuracy: 0.5214 - val_loss: 1.1995 - val_accuracy: 0.5303 - val_categorical_accuracy: 0.5303\n",
      "\n",
      "Epoch 00009: val_categorical_accuracy improved from 0.52311 to 0.53034, saving model to face_emotion_model.h5\n",
      "Epoch 10/50\n",
      "272/272 [==============================] - 54s 199ms/step - loss: 1.2494 - accuracy: 0.5358 - categorical_accuracy: 0.5358 - val_loss: 1.2943 - val_accuracy: 0.5298 - val_categorical_accuracy: 0.5298\n",
      "\n",
      "Epoch 00010: val_categorical_accuracy did not improve from 0.53034\n",
      "Epoch 11/50\n",
      "272/272 [==============================] - 53s 196ms/step - loss: 1.2143 - accuracy: 0.5472 - categorical_accuracy: 0.5472 - val_loss: 1.1348 - val_accuracy: 0.5464 - val_categorical_accuracy: 0.5464\n",
      "\n",
      "Epoch 00011: val_categorical_accuracy improved from 0.53034 to 0.54637, saving model to face_emotion_model.h5\n",
      "Epoch 12/50\n",
      "272/272 [==============================] - 53s 195ms/step - loss: 1.1869 - accuracy: 0.5581 - categorical_accuracy: 0.5581 - val_loss: 1.2204 - val_accuracy: 0.5470 - val_categorical_accuracy: 0.5470\n",
      "\n",
      "Epoch 00012: val_categorical_accuracy improved from 0.54637 to 0.54695, saving model to face_emotion_model.h5\n",
      "Epoch 13/50\n",
      "272/272 [==============================] - 53s 196ms/step - loss: 1.1544 - accuracy: 0.5714 - categorical_accuracy: 0.5714 - val_loss: 1.2590 - val_accuracy: 0.5647 - val_categorical_accuracy: 0.5647\n",
      "\n",
      "Epoch 00013: val_categorical_accuracy improved from 0.54695 to 0.56472, saving model to face_emotion_model.h5\n",
      "Epoch 14/50\n",
      "272/272 [==============================] - 54s 199ms/step - loss: 1.1280 - accuracy: 0.5808 - categorical_accuracy: 0.5808 - val_loss: 1.2159 - val_accuracy: 0.5639 - val_categorical_accuracy: 0.5639\n",
      "\n",
      "Epoch 00014: val_categorical_accuracy did not improve from 0.56472\n",
      "Epoch 15/50\n",
      "272/272 [==============================] - 54s 198ms/step - loss: 1.1039 - accuracy: 0.5918 - categorical_accuracy: 0.5918 - val_loss: 1.1702 - val_accuracy: 0.5663 - val_categorical_accuracy: 0.5663\n",
      "\n",
      "Epoch 00015: val_categorical_accuracy improved from 0.56472 to 0.56631, saving model to face_emotion_model.h5\n",
      "Epoch 16/50\n",
      "272/272 [==============================] - 53s 196ms/step - loss: 1.0790 - accuracy: 0.6019 - categorical_accuracy: 0.6019 - val_loss: 1.0698 - val_accuracy: 0.5701 - val_categorical_accuracy: 0.5701\n",
      "\n",
      "Epoch 00016: val_categorical_accuracy improved from 0.56631 to 0.57007, saving model to face_emotion_model.h5\n",
      "Epoch 17/50\n",
      "272/272 [==============================] - 53s 194ms/step - loss: 1.0557 - accuracy: 0.6088 - categorical_accuracy: 0.6088 - val_loss: 1.1439 - val_accuracy: 0.5776 - val_categorical_accuracy: 0.5776\n",
      "\n",
      "Epoch 00017: val_categorical_accuracy improved from 0.57007 to 0.57758, saving model to face_emotion_model.h5\n",
      "Epoch 18/50\n",
      "272/272 [==============================] - 52s 190ms/step - loss: 1.0325 - accuracy: 0.6185 - categorical_accuracy: 0.6185 - val_loss: 1.2434 - val_accuracy: 0.5835 - val_categorical_accuracy: 0.5835\n",
      "\n",
      "Epoch 00018: val_categorical_accuracy improved from 0.57758 to 0.58350, saving model to face_emotion_model.h5\n",
      "Epoch 19/50\n",
      "272/272 [==============================] - 52s 190ms/step - loss: 1.0143 - accuracy: 0.6247 - categorical_accuracy: 0.6247 - val_loss: 1.2222 - val_accuracy: 0.5735 - val_categorical_accuracy: 0.5735\n",
      "\n",
      "Epoch 00019: val_categorical_accuracy did not improve from 0.58350\n",
      "Epoch 20/50\n",
      "272/272 [==============================] - 52s 193ms/step - loss: 0.9859 - accuracy: 0.6365 - categorical_accuracy: 0.6365 - val_loss: 1.1053 - val_accuracy: 0.5835 - val_categorical_accuracy: 0.5835\n",
      "\n",
      "Epoch 00020: val_categorical_accuracy did not improve from 0.58350\n",
      "\n",
      "Epoch 00020: ReduceLROnPlateau reducing learning rate to 4.999999873689376e-05.\n",
      "Epoch 21/50\n",
      "272/272 [==============================] - 53s 194ms/step - loss: 0.9594 - accuracy: 0.6461 - categorical_accuracy: 0.6461 - val_loss: 1.0312 - val_accuracy: 0.5855 - val_categorical_accuracy: 0.5855\n",
      "\n",
      "Epoch 00021: val_categorical_accuracy improved from 0.58350 to 0.58552, saving model to face_emotion_model.h5\n",
      "Epoch 22/50\n",
      "272/272 [==============================] - 52s 191ms/step - loss: 0.9442 - accuracy: 0.6545 - categorical_accuracy: 0.6545 - val_loss: 1.1242 - val_accuracy: 0.5948 - val_categorical_accuracy: 0.5948\n",
      "\n",
      "Epoch 00022: val_categorical_accuracy improved from 0.58552 to 0.59477, saving model to face_emotion_model.h5\n",
      "Epoch 23/50\n",
      "272/272 [==============================] - 53s 193ms/step - loss: 0.9326 - accuracy: 0.6560 - categorical_accuracy: 0.6560 - val_loss: 1.0773 - val_accuracy: 0.5913 - val_categorical_accuracy: 0.5913\n",
      "\n",
      "Epoch 00023: val_categorical_accuracy did not improve from 0.59477\n",
      "Epoch 24/50\n",
      "272/272 [==============================] - 52s 191ms/step - loss: 0.9235 - accuracy: 0.6600 - categorical_accuracy: 0.6600 - val_loss: 1.0859 - val_accuracy: 0.5982 - val_categorical_accuracy: 0.5982\n",
      "\n",
      "Epoch 00024: val_categorical_accuracy improved from 0.59477 to 0.59824, saving model to face_emotion_model.h5\n",
      "Epoch 25/50\n",
      "272/272 [==============================] - 52s 192ms/step - loss: 0.9136 - accuracy: 0.6644 - categorical_accuracy: 0.6644 - val_loss: 1.1496 - val_accuracy: 0.5981 - val_categorical_accuracy: 0.5981\n",
      "\n",
      "Epoch 00025: val_categorical_accuracy did not improve from 0.59824\n",
      "Epoch 26/50\n",
      "272/272 [==============================] - 53s 193ms/step - loss: 0.8999 - accuracy: 0.6696 - categorical_accuracy: 0.6696 - val_loss: 1.2182 - val_accuracy: 0.5979 - val_categorical_accuracy: 0.5979\n",
      "\n",
      "Epoch 00026: val_categorical_accuracy did not improve from 0.59824\n",
      "\n",
      "Epoch 00026: ReduceLROnPlateau reducing learning rate to 2.499999936844688e-05.\n",
      "Epoch 27/50\n",
      "272/272 [==============================] - 53s 194ms/step - loss: 0.8871 - accuracy: 0.6743 - categorical_accuracy: 0.6743 - val_loss: 1.0371 - val_accuracy: 0.6026 - val_categorical_accuracy: 0.6026\n",
      "\n",
      "Epoch 00027: val_categorical_accuracy improved from 0.59824 to 0.60257, saving model to face_emotion_model.h5\n",
      "Epoch 28/50\n",
      "272/272 [==============================] - 53s 193ms/step - loss: 0.8824 - accuracy: 0.6766 - categorical_accuracy: 0.6766 - val_loss: 1.0326 - val_accuracy: 0.6037 - val_categorical_accuracy: 0.6037\n",
      "\n",
      "Epoch 00028: val_categorical_accuracy improved from 0.60257 to 0.60373, saving model to face_emotion_model.h5\n",
      "Epoch 29/50\n",
      "272/272 [==============================] - 53s 194ms/step - loss: 0.8749 - accuracy: 0.6789 - categorical_accuracy: 0.6789 - val_loss: 1.1387 - val_accuracy: 0.6034 - val_categorical_accuracy: 0.6034\n",
      "\n",
      "Epoch 00029: val_categorical_accuracy did not improve from 0.60373\n",
      "Epoch 30/50\n",
      "272/272 [==============================] - 52s 192ms/step - loss: 0.8747 - accuracy: 0.6774 - categorical_accuracy: 0.6774 - val_loss: 0.8981 - val_accuracy: 0.6037 - val_categorical_accuracy: 0.6037\n",
      "\n",
      "Epoch 00030: val_categorical_accuracy did not improve from 0.60373\n",
      "\n",
      "Epoch 00030: ReduceLROnPlateau reducing learning rate to 1.249999968422344e-05.\n",
      "Epoch 31/50\n",
      "272/272 [==============================] - 52s 193ms/step - loss: 0.8625 - accuracy: 0.6834 - categorical_accuracy: 0.6834 - val_loss: 1.1348 - val_accuracy: 0.6055 - val_categorical_accuracy: 0.6055\n",
      "\n",
      "Epoch 00031: val_categorical_accuracy improved from 0.60373 to 0.60546, saving model to face_emotion_model.h5\n",
      "Epoch 32/50\n",
      "272/272 [==============================] - 53s 194ms/step - loss: 0.8609 - accuracy: 0.6847 - categorical_accuracy: 0.6847 - val_loss: 1.0844 - val_accuracy: 0.6043 - val_categorical_accuracy: 0.6043\n",
      "\n",
      "Epoch 00032: val_categorical_accuracy did not improve from 0.60546\n",
      "Epoch 33/50\n",
      "272/272 [==============================] - 51s 189ms/step - loss: 0.8571 - accuracy: 0.6853 - categorical_accuracy: 0.6853 - val_loss: 1.0300 - val_accuracy: 0.6057 - val_categorical_accuracy: 0.6057\n",
      "\n",
      "Epoch 00033: val_categorical_accuracy improved from 0.60546 to 0.60575, saving model to face_emotion_model.h5\n",
      "Epoch 34/50\n",
      "272/272 [==============================] - 53s 193ms/step - loss: 0.8536 - accuracy: 0.6889 - categorical_accuracy: 0.6889 - val_loss: 1.0727 - val_accuracy: 0.6056 - val_categorical_accuracy: 0.6056\n",
      "\n",
      "Epoch 00034: val_categorical_accuracy did not improve from 0.60575\n",
      "Epoch 35/50\n",
      "272/272 [==============================] - 53s 194ms/step - loss: 0.8519 - accuracy: 0.6873 - categorical_accuracy: 0.6873 - val_loss: 1.0785 - val_accuracy: 0.6101 - val_categorical_accuracy: 0.6101\n",
      "\n",
      "Epoch 00035: val_categorical_accuracy improved from 0.60575 to 0.61008, saving model to face_emotion_model.h5\n",
      "Epoch 36/50\n",
      "272/272 [==============================] - 52s 191ms/step - loss: 0.8508 - accuracy: 0.6877 - categorical_accuracy: 0.6877 - val_loss: 1.1565 - val_accuracy: 0.6069 - val_categorical_accuracy: 0.6069\n",
      "\n",
      "Epoch 00036: val_categorical_accuracy did not improve from 0.61008\n",
      "Epoch 37/50\n",
      "272/272 [==============================] - 52s 192ms/step - loss: 0.8459 - accuracy: 0.6882 - categorical_accuracy: 0.6882 - val_loss: 0.9391 - val_accuracy: 0.6089 - val_categorical_accuracy: 0.6089\n",
      "\n",
      "Epoch 00037: val_categorical_accuracy did not improve from 0.61008\n",
      "\n",
      "Epoch 00037: ReduceLROnPlateau reducing learning rate to 1e-05.\n",
      "Epoch 38/50\n",
      "272/272 [==============================] - 53s 196ms/step - loss: 0.8408 - accuracy: 0.6919 - categorical_accuracy: 0.6919 - val_loss: 1.0227 - val_accuracy: 0.6089 - val_categorical_accuracy: 0.6089\n",
      "\n",
      "Epoch 00038: val_categorical_accuracy did not improve from 0.61008\n",
      "Epoch 39/50\n",
      "272/272 [==============================] - 53s 193ms/step - loss: 0.8449 - accuracy: 0.6910 - categorical_accuracy: 0.6910 - val_loss: 1.0922 - val_accuracy: 0.6062 - val_categorical_accuracy: 0.6062\n",
      "\n",
      "Epoch 00039: val_categorical_accuracy did not improve from 0.61008\n",
      "Epoch 40/50\n",
      "272/272 [==============================] - 52s 193ms/step - loss: 0.8389 - accuracy: 0.6925 - categorical_accuracy: 0.6925 - val_loss: 1.0673 - val_accuracy: 0.5987 - val_categorical_accuracy: 0.5987\n",
      "\n",
      "Epoch 00040: val_categorical_accuracy did not improve from 0.61008\n",
      "Epoch 41/50\n",
      "272/272 [==============================] - 53s 193ms/step - loss: 0.8377 - accuracy: 0.6928 - categorical_accuracy: 0.6928 - val_loss: 1.1515 - val_accuracy: 0.6085 - val_categorical_accuracy: 0.6085\n",
      "\n",
      "Epoch 00041: val_categorical_accuracy did not improve from 0.61008\n",
      "Epoch 42/50\n",
      "272/272 [==============================] - 52s 192ms/step - loss: 0.8328 - accuracy: 0.6931 - categorical_accuracy: 0.6931 - val_loss: 0.9941 - val_accuracy: 0.6079 - val_categorical_accuracy: 0.6079\n",
      "\n",
      "Epoch 00042: val_categorical_accuracy did not improve from 0.61008\n",
      "Epoch 43/50\n",
      "272/272 [==============================] - 53s 195ms/step - loss: 0.8298 - accuracy: 0.6968 - categorical_accuracy: 0.6968 - val_loss: 1.0330 - val_accuracy: 0.6059 - val_categorical_accuracy: 0.6059\n",
      "\n",
      "Epoch 00043: val_categorical_accuracy did not improve from 0.61008\n",
      "Epoch 44/50\n",
      "272/272 [==============================] - 53s 194ms/step - loss: 0.8307 - accuracy: 0.6940 - categorical_accuracy: 0.6940 - val_loss: 1.0541 - val_accuracy: 0.6097 - val_categorical_accuracy: 0.6097\n",
      "\n",
      "Epoch 00044: val_categorical_accuracy did not improve from 0.61008\n",
      "Epoch 45/50\n",
      "272/272 [==============================] - 53s 193ms/step - loss: 0.8281 - accuracy: 0.6953 - categorical_accuracy: 0.6953 - val_loss: 1.1262 - val_accuracy: 0.6063 - val_categorical_accuracy: 0.6063\n",
      "\n",
      "Epoch 00045: val_categorical_accuracy did not improve from 0.61008\n",
      "Epoch 46/50\n",
      "272/272 [==============================] - 53s 193ms/step - loss: 0.8247 - accuracy: 0.6972 - categorical_accuracy: 0.6972 - val_loss: 1.0067 - val_accuracy: 0.6000 - val_categorical_accuracy: 0.6000\n",
      "\n",
      "Epoch 00046: val_categorical_accuracy did not improve from 0.61008\n",
      "Epoch 47/50\n",
      "272/272 [==============================] - 52s 192ms/step - loss: 0.8222 - accuracy: 0.6999 - categorical_accuracy: 0.6999 - val_loss: 0.9986 - val_accuracy: 0.6102 - val_categorical_accuracy: 0.6102\n",
      "\n",
      "Epoch 00047: val_categorical_accuracy improved from 0.61008 to 0.61023, saving model to face_emotion_model.h5\n",
      "Epoch 48/50\n",
      "272/272 [==============================] - 52s 191ms/step - loss: 0.8230 - accuracy: 0.6980 - categorical_accuracy: 0.6980 - val_loss: 1.1205 - val_accuracy: 0.6102 - val_categorical_accuracy: 0.6102\n",
      "\n",
      "Epoch 00048: val_categorical_accuracy did not improve from 0.61023\n",
      "Epoch 49/50\n",
      "272/272 [==============================] - 52s 191ms/step - loss: 0.8168 - accuracy: 0.7026 - categorical_accuracy: 0.7026 - val_loss: 1.1495 - val_accuracy: 0.6037 - val_categorical_accuracy: 0.6037\n",
      "\n",
      "Epoch 00049: val_categorical_accuracy did not improve from 0.61023\n",
      "Epoch 50/50\n",
      "272/272 [==============================] - 53s 195ms/step - loss: 0.8206 - accuracy: 0.7002 - categorical_accuracy: 0.7002 - val_loss: 1.0894 - val_accuracy: 0.6108 - val_categorical_accuracy: 0.6108\n",
      "\n",
      "Epoch 00050: val_categorical_accuracy improved from 0.61023 to 0.61081, saving model to face_emotion_model.h5\n"
     ]
    },
    {
     "name": "stderr",
     "output_type": "stream",
     "text": [
      "/usr/local/lib/python3.6/dist-packages/ipykernel_launcher.py:12: MatplotlibDeprecationWarning: Passing the minor parameter of set_xticks() positionally is deprecated since Matplotlib 3.2; the parameter will become keyword-only two minor releases later.\n",
      "  if sys.path[0] == '':\n",
      "/usr/local/lib/python3.6/dist-packages/ipykernel_launcher.py:20: MatplotlibDeprecationWarning: Passing the minor parameter of set_xticks() positionally is deprecated since Matplotlib 3.2; the parameter will become keyword-only two minor releases later.\n"
     ]
    },
    {
     "data": {
      "image/png": "[encoded data removed]",
      "text/plain": [
       "<Figure size 1080x360 with 2 Axes>"
      ]
     },
     "metadata": {
      "needs_background": "light",
      "tags": []
     },
     "output_type": "display_data"
    }
   ],
   "source": [
    "model.compile(loss='categorical_crossentropy',optimizer=Adam(lr=0.0001, decay=1e-6),metrics=['accuracy',categorical_accuracy])\n",
    "filepath = \"face_emotion_model.h5\"\n",
    "checkpoint = ModelCheckpoint(filepath, monitor='val_categorical_accuracy', verbose=1, \n",
    "                             save_best_only=True, mode='max')\n",
    "\n",
    "reduce_lr = ReduceLROnPlateau(monitor='val_categorical_accuracy', factor=0.5, patience=2, \n",
    "                                   verbose=1, mode='max', min_lr=0.00001)\n",
    "                              \n",
    "                              \n",
    "callbacks_list = [checkpoint, reduce_lr]\n",
    "model_info = model.fit_generator(\n",
    "        train_generator,\n",
    "        steps_per_epoch=num_train // batch_size,\n",
    "        epochs=num_epoch,\n",
    "        validation_data=validation_generator,\n",
    "        validation_steps=num_val//batch_size,\n",
    "        callbacks=callbacks_list\n",
    "        )\n",
    "plot_model_history(model_info)\n",
    "model.save_weights('face_emotion_final_epoch_model.h5')"
   ]
  },
  {
   "cell_type": "code",
   "execution_count": 35,
   "metadata": {
    "colab": {
     "base_uri": "https://localhost:8080/",
     "height": 35
    },
    "colab_type": "code",
    "id": "H-LvVVLAsJty",
    "outputId": "2f614555-1d2e-4ebc-c723-807921cb715e"
   },
   "outputs": [
    {
     "data": {
      "text/plain": [
       "['loss', 'accuracy', 'categorical_accuracy']"
      ]
     },
     "execution_count": 35,
     "metadata": {
      "tags": []
     },
     "output_type": "execute_result"
    }
   ],
   "source": [
    "model.metrics_names"
   ]
  },
  {
   "cell_type": "code",
   "execution_count": 46,
   "metadata": {
    "colab": {
     "base_uri": "https://localhost:8080/",
     "height": 87
    },
    "colab_type": "code",
    "id": "HDViVqUj9vJ1",
    "outputId": "2adf7c7e-2e55-42d1-c909-4f05e0edb1ec"
   },
   "outputs": [
    {
     "name": "stdout",
     "output_type": "stream",
     "text": [
      "Found 7178 images belonging to 7 classes.\n",
      "val_loss: 1.1893070936203003\n",
      "val_acc 0.6062970161437988\n",
      "val_cat_acc: 0.6062970161437988\n"
     ]
    }
   ],
   "source": [
    "# Note: shuffle=False causes the test dataset to not be shuffled\n",
    "test_datagen = ImageDataGenerator(rescale=1./255)\n",
    "test_steps = np.ceil(7178 / 64)\n",
    "test_batches= test_datagen.flow_from_directory(\n",
    "        val_dir,\n",
    "        target_size=(48,48),\n",
    "        batch_size=64,\n",
    "        color_mode=\"grayscale\",\n",
    "        class_mode='categorical',\n",
    "        shuffle=False)\n",
    "\n",
    "val_loss,val_acc ,val_cat_acc = model.evaluate_generator(test_batches, \n",
    "                        steps=test_steps)\n",
    "\n",
    "print('val_loss:', val_loss)\n",
    "print('val_acc', val_acc)\n",
    "print('val_cat_acc:', val_cat_acc)"
   ]
  },
  {
   "cell_type": "code",
   "execution_count": 47,
   "metadata": {
    "colab": {
     "base_uri": "https://localhost:8080/",
     "height": 70
    },
    "colab_type": "code",
    "id": "DOTh7XUmDCKm",
    "outputId": "8cf585f3-d453-4f21-f0c4-10c73deca323"
   },
   "outputs": [
    {
     "name": "stdout",
     "output_type": "stream",
     "text": [
      "val_loss: 1.1893070936203003\n",
      "val_acc 0.6062970161437988\n",
      "val_cat_acc: 0.6062970161437988\n"
     ]
    }
   ],
   "source": [
    "model.load_weights('face_emotion_model.h5')\n",
    "\n",
    "val_loss, val_acc, val_cat_acc = \\\n",
    "val_loss,val_acc ,val_cat_acc = model.evaluate_generator(test_batches, \n",
    "                        steps=test_steps)\n",
    "print('val_loss:', val_loss)\n",
    "print('val_acc', val_acc)\n",
    "print('val_cat_acc:', val_cat_acc)"
   ]
  },
  {
   "cell_type": "code",
   "execution_count": 48,
   "metadata": {
    "colab": {
     "base_uri": "https://localhost:8080/",
     "height": 35
    },
    "colab_type": "code",
    "id": "KfBbf_D1BVLq",
    "outputId": "5cb49183-eb17-4081-a907-f2ffb3959456"
   },
   "outputs": [
    {
     "data": {
      "text/plain": [
       "array([0, 0, 0, ..., 6, 6, 6], dtype=int32)"
      ]
     },
     "execution_count": 48,
     "metadata": {
      "tags": []
     },
     "output_type": "execute_result"
    }
   ],
   "source": [
    "# Get the labels of the test images.\n",
    "\n",
    "test_labels = test_batches.classes\n",
    "test_labels"
   ]
  },
  {
   "cell_type": "code",
   "execution_count": 49,
   "metadata": {
    "colab": {
     "base_uri": "https://localhost:8080/",
     "height": 140
    },
    "colab_type": "code",
    "id": "wcT5twnLDiQL",
    "outputId": "e683db1c-a6a0-41e0-82ad-60b1c0227ee6"
   },
   "outputs": [
    {
     "data": {
      "text/plain": [
       "{'angry': 0,\n",
       " 'disgusted': 1,\n",
       " 'fearful': 2,\n",
       " 'happy': 3,\n",
       " 'neutral': 4,\n",
       " 'sad': 5,\n",
       " 'surprised': 6}"
      ]
     },
     "execution_count": 49,
     "metadata": {
      "tags": []
     },
     "output_type": "execute_result"
    }
   ],
   "source": [
    "# Print the label associated with each class\n",
    "test_batches.class_indices"
   ]
  },
  {
   "cell_type": "code",
   "execution_count": 50,
   "metadata": {
    "colab": {
     "base_uri": "https://localhost:8080/",
     "height": 35
    },
    "colab_type": "code",
    "id": "DiqKcauiDni7",
    "outputId": "7f656073-4dd4-4f83-faed-0ca835f691ee"
   },
   "outputs": [
    {
     "name": "stdout",
     "output_type": "stream",
     "text": [
      "113/113 [==============================] - 2s 19ms/step\n"
     ]
    }
   ],
   "source": [
    "# make a prediction\n",
    "predictions = model.predict_generator(test_batches, steps=test_steps, verbose=1)"
   ]
  },
  {
   "cell_type": "code",
   "execution_count": 51,
   "metadata": {
    "colab": {},
    "colab_type": "code",
    "id": "motbBu7NDuSE"
   },
   "outputs": [],
   "source": [
    "def plot_confusion_matrix(cm, classes,\n",
    "                          normalize=False,\n",
    "                          title='Confusion matrix',\n",
    "                          cmap=plt.cm.Blues):\n",
    "    \"\"\"\n",
    "    This function prints and plots the confusion matrix.\n",
    "    Normalization can be applied by setting `normalize=True`.\n",
    "    \"\"\"\n",
    "    if normalize:\n",
    "        cm = cm.astype('float') / cm.sum(axis=1)[:, np.newaxis]\n",
    "        print(\"Normalized confusion matrix\")\n",
    "    else:\n",
    "        print('Confusion matrix, without normalization')\n",
    "\n",
    "    print(cm)\n",
    "\n",
    "    plt.imshow(cm, interpolation='nearest', cmap=cmap)\n",
    "    plt.title(title)\n",
    "    plt.colorbar()\n",
    "    tick_marks = np.arange(len(classes))\n",
    "    plt.xticks(tick_marks, classes, rotation=45)\n",
    "    plt.yticks(tick_marks, classes)\n",
    "\n",
    "    fmt = '.2f' if normalize else 'd'\n",
    "    thresh = cm.max() / 2.\n",
    "    for i, j in itertools.product(range(cm.shape[0]), range(cm.shape[1])):\n",
    "        plt.text(j, i, format(cm[i, j], fmt),\n",
    "                 horizontalalignment=\"center\",\n",
    "                 color=\"white\" if cm[i, j] > thresh else \"black\")\n",
    "\n",
    "    plt.ylabel('True label')\n",
    "    plt.xlabel('Predicted label')\n",
    "    plt.tight_layout()"
   ]
  },
  {
   "cell_type": "code",
   "execution_count": 54,
   "metadata": {
    "colab": {},
    "colab_type": "code",
    "id": "b1f8i-AiD1uS"
   },
   "outputs": [],
   "source": [
    "cm = confusion_matrix(test_labels, predictions.argmax(axis=1))"
   ]
  },
  {
   "cell_type": "code",
   "execution_count": 55,
   "metadata": {
    "colab": {
     "base_uri": "https://localhost:8080/",
     "height": 140
    },
    "colab_type": "code",
    "id": "3pBEL3vgEFZa",
    "outputId": "906e6554-60d3-4887-bd34-03571793f8f3"
   },
   "outputs": [
    {
     "data": {
      "text/plain": [
       "{'angry': 0,\n",
       " 'disgusted': 1,\n",
       " 'fearful': 2,\n",
       " 'happy': 3,\n",
       " 'neutral': 4,\n",
       " 'sad': 5,\n",
       " 'surprised': 6}"
      ]
     },
     "execution_count": 55,
     "metadata": {
      "tags": []
     },
     "output_type": "execute_result"
    }
   ],
   "source": [
    "test_batches.class_indices"
   ]
  },
  {
   "cell_type": "code",
   "execution_count": 59,
   "metadata": {
    "colab": {
     "base_uri": "https://localhost:8080/",
     "height": 437
    },
    "colab_type": "code",
    "id": "nO36aqusELlz",
    "outputId": "482890e5-f064-4c36-fdbb-8304d52700d3"
   },
   "outputs": [
    {
     "name": "stdout",
     "output_type": "stream",
     "text": [
      "Confusion matrix, without normalization\n",
      "[[ 497   31   87   56  125  130   32]\n",
      " [  17   76    6    2    5    4    1]\n",
      " [ 115   20  380   57  126  206  120]\n",
      " [  62    3   54 1425  111   68   51]\n",
      " [  81   10   81  112  744  174   31]\n",
      " [ 132   22  148   91  241  583   30]\n",
      " [  24    4   60   37   41   18  647]]\n"
     ]
    },
    {
     "data": {
      "image/png": "[encoded data removed]",
      "text/plain": [
       "<Figure size 432x288 with 2 Axes>"
      ]
     },
     "metadata": {
      "needs_background": "light",
      "tags": []
     },
     "output_type": "display_data"
    }
   ],
   "source": [
    "# order shown above.\n",
    "cm_plot_labels = ['angry',\n",
    " 'disgusted',\n",
    " 'fearful',\n",
    " 'happy',\n",
    " 'neutral',\n",
    " 'sad',\n",
    " 'surprised']\n",
    "\n",
    "plot_confusion_matrix(cm, cm_plot_labels, title='Confusion Matrix')"
   ]
  },
  {
   "cell_type": "code",
   "execution_count": 60,
   "metadata": {
    "colab": {},
    "colab_type": "code",
    "id": "_O2bUufIEyit"
   },
   "outputs": [],
   "source": [
    "# Get the filenames, labels and associated predictions\n",
    "\n",
    "# This outputs the sequence in which the generator processed the test images\n",
    "test_filenames = test_batches.filenames\n",
    "\n",
    "# Get the true labels\n",
    "y_true = test_batches.classes\n",
    "\n",
    "# Get the predicted labels\n",
    "y_pred = predictions.argmax(axis=1)"
   ]
  },
  {
   "cell_type": "code",
   "execution_count": 61,
   "metadata": {
    "colab": {
     "base_uri": "https://localhost:8080/",
     "height": 262
    },
    "colab_type": "code",
    "id": "C0D_VpZVFEGL",
    "outputId": "b68d0e84-8ed2-4fbf-b0b2-27c7d1b695c8"
   },
   "outputs": [
    {
     "name": "stdout",
     "output_type": "stream",
     "text": [
      "              precision    recall  f1-score   support\n",
      "\n",
      "       angry       0.54      0.52      0.53       958\n",
      "   disgusted       0.46      0.68      0.55       111\n",
      "     fearful       0.47      0.37      0.41      1024\n",
      "       happy       0.80      0.80      0.80      1774\n",
      "     neutral       0.53      0.60      0.57      1233\n",
      "         sad       0.49      0.47      0.48      1247\n",
      "   surprised       0.71      0.78      0.74       831\n",
      "\n",
      "    accuracy                           0.61      7178\n",
      "   macro avg       0.57      0.60      0.58      7178\n",
      "weighted avg       0.60      0.61      0.60      7178\n",
      "\n"
     ]
    }
   ],
   "source": [
    "from sklearn.metrics import classification_report\n",
    "\n",
    "# Generate a classification report\n",
    "\n",
    "\n",
    "report = classification_report(y_true, y_pred, target_names=cm_plot_labels)\n",
    "\n",
    "print(report)"
   ]
  },
  {
   "cell_type": "code",
   "execution_count": 62,
   "metadata": {
    "colab": {},
    "colab_type": "code",
    "id": "0goopwsiFJdH"
   },
   "outputs": [],
   "source": [
    "model.save('face_emotion_final_weights_model.h5')"
   ]
  }
 ],
 "metadata": {
  "accelerator": "TPU",
  "colab": {
   "collapsed_sections": [],
   "name": "FacialEmotionRecognition.ipynb",
   "provenance": []
  },
  "kernelspec": {
   "display_name": "Python 3",
   "language": "python",
   "name": "python3"
  },
  "language_info": {
   "codemirror_mode": {
    "name": "ipython",
    "version": 3
   },
   "file_extension": ".py",
   "mimetype": "text/x-python",
   "name": "python",
   "nbconvert_exporter": "python",
   "pygments_lexer": "ipython3",
   "version": "3.8.3"
  }
 },
 "nbformat": 4,
 "nbformat_minor": 1
}
